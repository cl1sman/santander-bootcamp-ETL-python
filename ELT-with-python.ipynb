{
 "cells": [
  {
   "cell_type": "markdown",
   "id": "e05e7615-0961-405c-8a5d-c189fc7d16e9",
   "metadata": {},
   "source": [
    "### Extract"
   ]
  },
  {
   "cell_type": "code",
   "execution_count": 1,
   "id": "25ad8740-c4d5-4d0f-ac3c-f3bf5e217f0f",
   "metadata": {},
   "outputs": [
    {
     "name": "stdout",
     "output_type": "stream",
     "text": [
      "Dados originais\n",
      "      Nome  Idade\n",
      "0    Alice     25\n",
      "1      Bob     30\n",
      "2  Charlie     22\n",
      "3    David     35\n",
      "4      Eva     28\n"
     ]
    }
   ],
   "source": [
    "import pandas as pd\n",
    "\n",
    "dados = pd.read_csv('dados.csv')\n",
    "\n",
    "print(\"Dados originais\")\n",
    "print(dados)"
   ]
  },
  {
   "cell_type": "markdown",
   "id": "2c57a29b-a088-468c-98fe-983465cf1315",
   "metadata": {},
   "source": [
    "### Transform"
   ]
  },
  {
   "cell_type": "code",
   "execution_count": 2,
   "id": "93f865f0-27a7-4089-a8b0-e53a8926a9ac",
   "metadata": {},
   "outputs": [
    {
     "name": "stdout",
     "output_type": "stream",
     "text": [
      "\n",
      "Maiores de 25\n",
      "    Nome  Idade\n",
      "1    Bob     30\n",
      "3  David     35\n",
      "4    Eva     28\n"
     ]
    }
   ],
   "source": [
    "dados_filtrados = dados[dados['Idade'] > 25]\n",
    "print('\\nMaiores de 25')\n",
    "print(dados_filtrados)"
   ]
  },
  {
   "cell_type": "markdown",
   "id": "a6f6e281-da83-4b3c-baac-b0a719ecfec6",
   "metadata": {},
   "source": [
    "### Load"
   ]
  },
  {
   "cell_type": "code",
   "execution_count": 6,
   "id": "a808c695-fd29-4b17-a835-0701b6882986",
   "metadata": {},
   "outputs": [
    {
     "name": "stdout",
     "output_type": "stream",
     "text": [
      "\n",
      "Dados filtrados salvos em 'dados_maiores_de_25.csv'\n"
     ]
    }
   ],
   "source": [
    "dados_filtrados.to_csv('dados_maiores_de_25.csv', index=False)\n",
    "print(\"\\nDados filtrados salvos em 'dados_maiores_de_25.csv'\")"
   ]
  }
 ],
 "metadata": {
  "kernelspec": {
   "display_name": "Python 3 (ipykernel)",
   "language": "python",
   "name": "python3"
  },
  "language_info": {
   "codemirror_mode": {
    "name": "ipython",
    "version": 3
   },
   "file_extension": ".py",
   "mimetype": "text/x-python",
   "name": "python",
   "nbconvert_exporter": "python",
   "pygments_lexer": "ipython3",
   "version": "3.11.4"
  }
 },
 "nbformat": 4,
 "nbformat_minor": 5
}
